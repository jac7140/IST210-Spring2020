{
  "nbformat": 4,
  "nbformat_minor": 0,
  "metadata": {
    "colab": {
      "name": "Lab1.ipynb",
      "provenance": [],
      "authorship_tag": "ABX9TyN9MyuISyPaJnrdFAtY7Cj5",
      "include_colab_link": true
    },
    "kernelspec": {
      "name": "python3",
      "display_name": "Python 3"
    }
  },
  "cells": [
    {
      "cell_type": "markdown",
      "metadata": {
        "id": "view-in-github",
        "colab_type": "text"
      },
      "source": [
        "<a href=\"https://colab.research.google.com/github/jac7140/IST210-Spring2020/blob/master/Lab1.ipynb\" target=\"_parent\"><img src=\"https://colab.research.google.com/assets/colab-badge.svg\" alt=\"Open In Colab\"/></a>"
      ]
    },
    {
      "cell_type": "code",
      "metadata": {
        "id": "UgutnC-e6Ucn",
        "colab_type": "code",
        "colab": {}
      },
      "source": [
        ""
      ],
      "execution_count": 0,
      "outputs": []
    },
    {
      "cell_type": "markdown",
      "metadata": {
        "id": "g2JyAPhb6VP_",
        "colab_type": "text"
      },
      "source": [
        "#Justin Cancelliere\n",
        "#Cybersecurity and Analytics\n",
        "#Cybersecurity "
      ]
    },
    {
      "cell_type": "markdown",
      "metadata": {
        "id": "_zX3DzZKsWu3",
        "colab_type": "text"
      },
      "source": [
        "![alt text](https://raw.githubusercontent.com/jac7140/IST210-Spring2020/master/raidrs.jpg\n",
        ")"
      ]
    }
  ]
}