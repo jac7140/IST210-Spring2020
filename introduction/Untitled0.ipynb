{
  "nbformat": 4,
  "nbformat_minor": 0,
  "metadata": {
    "colab": {
      "name": "Untitled0.ipynb",
      "provenance": [],
      "authorship_tag": "ABX9TyOf1QW/eFwEJKmKZm8JJ7ha",
      "include_colab_link": true
    },
    "kernelspec": {
      "name": "python3",
      "display_name": "Python 3"
    }
  },
  "cells": [
    {
      "cell_type": "markdown",
      "metadata": {
        "id": "view-in-github",
        "colab_type": "text"
      },
      "source": [
        "<a href=\"https://colab.research.google.com/github/jac7140/IST210-Spring2020/blob/master/introduction/Untitled0.ipynb\" target=\"_parent\"><img src=\"https://colab.research.google.com/assets/colab-badge.svg\" alt=\"Open In Colab\"/></a>"
      ]
    },
    {
      "cell_type": "code",
      "metadata": {
        "id": "ZMbeFn5P07YU",
        "colab_type": "code",
        "colab": {}
      },
      "source": [
        "#Justin Cancelliere"
      ],
      "execution_count": 0,
      "outputs": []
    },
    {
      "cell_type": "markdown",
      "metadata": {
        "id": "cAyvUnK51MpI",
        "colab_type": "text"
      },
      "source": [
        "#Justin Cancelliere\n",
        "#Cybersecurity\n",
        "#Cybersecurity Analyst\n"
      ]
    },
    {
      "cell_type": "code",
      "metadata": {
        "id": "5RIibti51Anl",
        "colab_type": "code",
        "colab": {}
      },
      "source": [
        ""
      ],
      "execution_count": 0,
      "outputs": []
    },
    {
      "cell_type": "markdown",
      "metadata": {
        "id": "xkTBNYyi4YQ_",
        "colab_type": "text"
      },
      "source": [
        "![alt text](https://raw.githubusercontent.com/jac7140/IST210-Spring2020/master/introduction/raidrs.jpg)"
      ]
    },
    {
      "cell_type": "code",
      "metadata": {
        "id": "QRSccWW84xs5",
        "colab_type": "code",
        "colab": {
          "base_uri": "https://localhost:8080/",
          "height": 34
        },
        "outputId": "91f998ac-0f65-4b02-c3ab-cf78e57bd40c"
      },
      "source": [
        "2+2\n",
        "2+3\n",
        "2+4"
      ],
      "execution_count": 2,
      "outputs": [
        {
          "output_type": "execute_result",
          "data": {
            "text/plain": [
              "6"
            ]
          },
          "metadata": {
            "tags": []
          },
          "execution_count": 2
        }
      ]
    },
    {
      "cell_type": "code",
      "metadata": {
        "id": "pTTPvpkV40Tv",
        "colab_type": "code",
        "colab": {}
      },
      "source": [
        ""
      ],
      "execution_count": 0,
      "outputs": []
    }
  ]
}